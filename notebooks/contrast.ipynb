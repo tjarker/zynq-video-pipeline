{
 "cells": [
  {
   "cell_type": "markdown",
   "metadata": {},
   "source": [
    "# Used Functions"
   ]
  },
  {
   "cell_type": "code",
   "execution_count": 1,
   "metadata": {
    "tags": []
   },
   "outputs": [],
   "source": [
    "def fixed_point_to_binary(fixed_point_data, num_bits, fractional_bits):\n",
    "    # Calculate the maximum integer value that can be represented with the given number of bits\n",
    "    max_int_value = 2**(num_bits - 1) - 1\n",
    "    \n",
    "    # Scale the fixed-point data to fit within the representable integer range\n",
    "    scaled_data = int(fixed_point_data * (2**fractional_bits))\n",
    "    \n",
    "    # Clip the scaled data to stay within the representable integer range\n",
    "    clipped_data = max(-max_int_value, min(scaled_data, max_int_value))\n",
    "    \n",
    "    # Convert the clipped data to binary representation\n",
    "    binary_representation = bin(clipped_data & int(\"1\"*num_bits, 2))[2:].zfill(num_bits)\n",
    "    \n",
    "    return binary_representation"
   ]
  },
  {
   "cell_type": "markdown",
   "metadata": {},
   "source": [
    "# Base Video Pipeline"
   ]
  },
  {
   "cell_type": "markdown",
   "metadata": {},
   "source": [
    "## Pipeline"
   ]
  },
  {
   "cell_type": "markdown",
   "metadata": {},
   "source": [
    "Load overlay"
   ]
  },
  {
   "cell_type": "code",
   "execution_count": 3,
   "metadata": {},
   "outputs": [],
   "source": [
    "from pynq import Overlay\n",
    "from pynq.lib.video import *\n",
    "\n",
    "base = Overlay('/home/xilinx/jupyter_notebooks/contrast/base.bit')\n",
    "base.download()\n",
    "\n",
    "hdmi_in = base.video.hdmi_in\n",
    "hdmi_out = base.video.hdmi_out\n",
    "\n",
    "from pynq import MMIO\n",
    "contrast_addr = 0x4000_0000\n",
    "pre_sharpen_addr = 0x4001_0000\n",
    "post_sharpen_addr = 0x4002_0000\n",
    "contrast = MMIO(contrast_addr, 0x10000)\n",
    "pre_sharpen = MMIO(pre_sharpen_addr, 0x10000)\n",
    "post_sharpen = MMIO(post_sharpen_addr, 0x10000)\n",
    "\n"
   ]
  },
  {
   "cell_type": "code",
   "execution_count": 32,
   "metadata": {},
   "outputs": [],
   "source": [
    "def set_constrast(scaler):\n",
    "    contrast.write(0x10, int(fixed_point_to_binary(scaler, 32, 16), 2))\n",
    "                    \n",
    "def toggle_contrast():\n",
    "    status = contrast.read(0x18)\n",
    "    contrast.write(0x18, not status)\n",
    "                   \n",
    "def toggle_pre_sharpen():\n",
    "    status = pre_sharpen.read(0x10)\n",
    "    pre_sharpen.write(0x10, not status)\n",
    "                   \n",
    "def toggle_post_sharpen():\n",
    "    status = post_sharpen.read(0x10)\n",
    "    post_sharpen.write(0x10, not status)"
   ]
  },
  {
   "cell_type": "markdown",
   "metadata": {},
   "source": [
    "Configure HDMI"
   ]
  },
  {
   "cell_type": "code",
   "execution_count": 4,
   "metadata": {},
   "outputs": [],
   "source": [
    "hdmi_in.configure(PIXEL_RGBA)\n",
    "hdmi_out.configure(hdmi_in.mode, PIXEL_RGBA)\n",
    "\n",
    "hdmi_in.start()\n",
    "hdmi_out.start()\n",
    "\n",
    "hdmi_in.tie(hdmi_out)"
   ]
  },
  {
   "cell_type": "markdown",
   "metadata": {},
   "source": [
    "Write configuration data (for the `invstripe` function)"
   ]
  },
  {
   "cell_type": "code",
   "execution_count": 56,
   "metadata": {},
   "outputs": [],
   "source": [
    "set_constrast(0.9)"
   ]
  },
  {
   "cell_type": "code",
   "execution_count": 23,
   "metadata": {},
   "outputs": [],
   "source": [
    "contrast.write(0x18, 0)"
   ]
  },
  {
   "cell_type": "code",
   "execution_count": 33,
   "metadata": {},
   "outputs": [],
   "source": [
    "pre_sharpen.write(0x10, 1)"
   ]
  },
  {
   "cell_type": "code",
   "execution_count": 54,
   "metadata": {},
   "outputs": [],
   "source": [
    "post_sharpen.write(0x10,0)"
   ]
  },
  {
   "cell_type": "markdown",
   "metadata": {},
   "source": [
    "Don't forget to close the HDMI connection!"
   ]
  },
  {
   "cell_type": "code",
   "execution_count": null,
   "metadata": {},
   "outputs": [],
   "source": [
    "hdmi_out.close()\n",
    "hdmi_in.close()"
   ]
  }
 ],
 "metadata": {
  "kernelspec": {
   "display_name": "Python 3 (ipykernel)",
   "language": "python",
   "name": "python3"
  },
  "language_info": {
   "codemirror_mode": {
    "name": "ipython",
    "version": 3
   },
   "file_extension": ".py",
   "mimetype": "text/x-python",
   "name": "python",
   "nbconvert_exporter": "python",
   "pygments_lexer": "ipython3",
   "version": "3.10.4"
  }
 },
 "nbformat": 4,
 "nbformat_minor": 4
}

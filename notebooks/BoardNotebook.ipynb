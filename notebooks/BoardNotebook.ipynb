{
 "cells": [
  {
   "cell_type": "code",
   "execution_count": null,
   "id": "6a1c35b6-7514-4e79-8086-4d8dbf8fe8f2",
   "metadata": {
    "tags": []
   },
   "outputs": [],
   "source": [
    "from pynq import Overlay\n",
    "from pynq.lib.video import *\n",
    "import cv2 as cv\n",
    "import sys\n",
    "import numpy as np\n",
    "import time\n",
    "import panda as pd"
   ]
  },
  {
   "cell_type": "code",
   "execution_count": 2,
   "id": "ba280848-6b28-4b6d-8871-3960a7c82bce",
   "metadata": {
    "tags": []
   },
   "outputs": [],
   "source": [
    "def contrast_enh(img, p):\n",
    "    chans = cv.split(img)\n",
    "    for channel in chans:\n",
    "        hist = cv.calcHist([channel], [0], None, [256], [0, 256])\n",
    "        threshold = max(hist)*p\n",
    "        \n",
    "        for first in range(hist.size):\n",
    "            if hist[first] > threshold:\n",
    "                break;\n",
    "\n",
    "        for last in range(255,-1,-1):\n",
    "            if hist[last] > threshold:\n",
    "                break;\n",
    "\n",
    "        if last == first:\n",
    "            den = 0.1\n",
    "        else:\n",
    "            den = last - first\n",
    "            \n",
    "        scale = 255 / den\n",
    "        offset = first\n",
    "\n",
    "        channel[channel < first] = 0\n",
    "        channel[channel > last] = 255\n",
    "        channel[(channel >= first) & (channel <= last)] = channel[(channel >= first) & (channel <= last)] * scale - offset\n",
    "        \n",
    "        final_image = cv.merge([chans[0], chans[1], chans[2]])\n",
    "    \n",
    "    return final_image\n",
    "\n",
    "def image_sharp(image):\n",
    "    kernel = np.array([[0, -1, 0], [-1, 5, -1], [0, -1, 0]])\n",
    "\n",
    "    # Apply the filter matrix to the image\n",
    "    sharpened = cv.filter2D(image, -1, kernel)\n",
    "    \n",
    "    return sharpened"
   ]
  },
  {
   "cell_type": "code",
   "execution_count": null,
   "id": "f077da55-dced-44a7-bc6b-50fceb3ecd31",
   "metadata": {},
   "outputs": [],
   "source": [
    "base = Overlay('base.bit')\n",
    "base.download()\n",
    "\n",
    "hdmi_in = base.video.hdmi_in\n",
    "hdmi_out = base.video.hdmi_out\n",
    "hdmi_in.configure(PIXEL_RGBA)\n",
    "hdmi_out.configure(hdmi_in.mode, PIXEL_RGBA)\n",
    "hdmi_in.start()\n",
    "hdmi_out.start()"
   ]
  },
  {
   "cell_type": "code",
   "execution_count": null,
   "id": "da13d67e-cdf3-4b36-bb5b-c6024db7eb8c",
   "metadata": {},
   "outputs": [],
   "source": [
    "res_1 = np.ndarray(shape=(hdmi_in.mode.height, hdmi_in.mode.width),\n",
    "                    dtype=np.uint8)\n",
    "res_2 = np.ndarray(shape=(hdmi_in.mode.height, hdmi_in.mode.width),\n",
    "                    dtype=np.uint8)\n",
    "\n",
    "contrast_time = np.array([])\n",
    "sharp_time = np.array([])"
   ]
  },
  {
   "cell_type": "code",
   "execution_count": null,
   "id": "6cf893f0-0406-4ea6-84b5-30b36bea9a5b",
   "metadata": {},
   "outputs": [],
   "source": [
    "hdmi_in.tie(hdmi_out)"
   ]
  },
  {
   "cell_type": "code",
   "execution_count": null,
   "id": "7616e7e9-55f6-4ab5-b503-c7de818b69f1",
   "metadata": {},
   "outputs": [],
   "source": [
    "video_start = time.time()\n",
    "\n",
    "try:\n",
    "    while True:\n",
    "\n",
    "        inframe = hdmi_in.readframe()\n",
    "\n",
    "        proc_start = time.time()\n",
    "        res_1 = contrast_enh(inframe, 0.01)\n",
    "        proc_mid = time.time()\n",
    "        res_2 = image_sharp(res_1)\n",
    "        proc_end = time.time()\n",
    "        outframe = hdmi_out.newframe()\n",
    "\n",
    "        cv2.cvtColor(res_2, cv.COLOR_GRAY2BGR,dst=outframe)\n",
    "        hdmi_out.writeframe(outframe)\n",
    "\n",
    "        contrast_time = np.append(contrast_time, (proc_mid - proc_start))\n",
    "        sharp_time = np.append(sharp_time, (proc_end - proc_mid))\n",
    "except KeyboardInterrupt:\n",
    "    video_end = time.time()"
   ]
  },
  {
   "cell_type": "code",
   "execution_count": null,
   "id": "13fcfcfd-7f54-42cd-a9db-9853a720de48",
   "metadata": {},
   "outputs": [],
   "source": [
    "hdmi_out.close()\n",
    "hdmi_in.close()"
   ]
  },
  {
   "cell_type": "code",
   "execution_count": null,
   "id": "b5d59ef7-83ec-4e86-820d-8c2fdcde9be6",
   "metadata": {},
   "outputs": [],
   "source": [
    "tot_time = video_end - video_start\n",
    "print(f'Total Time: {tot_time} seconds')\n",
    "\n",
    "data = {'Contrast Enh': contrast_time,\n",
    "        'Sharpener': sharp_time}\n",
    "\n",
    "df = pd.DataFrame(data)\n",
    "df.to_csv('DATA.txt', index=True, header=True, sep='\\t')"
   ]
  }
 ],
 "metadata": {
  "kernelspec": {
   "display_name": "Python 3 (ipykernel)",
   "language": "python",
   "name": "python3"
  },
  "language_info": {
   "codemirror_mode": {
    "name": "ipython",
    "version": 3
   },
   "file_extension": ".py",
   "mimetype": "text/x-python",
   "name": "python",
   "nbconvert_exporter": "python",
   "pygments_lexer": "ipython3",
   "version": "3.11.5"
  }
 },
 "nbformat": 4,
 "nbformat_minor": 5
}

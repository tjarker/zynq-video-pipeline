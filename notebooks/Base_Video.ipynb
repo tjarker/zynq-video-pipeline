{
 "cells": [
  {
   "cell_type": "markdown",
   "metadata": {},
   "source": [
    "# Used Functions"
   ]
  },
  {
   "cell_type": "code",
   "execution_count": 1,
   "metadata": {
    "tags": []
   },
   "outputs": [],
   "source": [
    "def fixed_point_to_binary(fixed_point_data, num_bits, fractional_bits):\n",
    "    # Calculate the maximum integer value that can be represented with the given number of bits\n",
    "    max_int_value = 2**(num_bits - 1) - 1\n",
    "    \n",
    "    # Scale the fixed-point data to fit within the representable integer range\n",
    "    scaled_data = int(fixed_point_data * (2**fractional_bits))\n",
    "    \n",
    "    # Clip the scaled data to stay within the representable integer range\n",
    "    clipped_data = max(-max_int_value, min(scaled_data, max_int_value))\n",
    "    \n",
    "    # Convert the clipped data to binary representation\n",
    "    binary_representation = bin(clipped_data & int(\"1\"*num_bits, 2))[2:].zfill(num_bits)\n",
    "    \n",
    "    return binary_representation"
   ]
  },
  {
   "cell_type": "markdown",
   "metadata": {},
   "source": [
    "# Base Video Pipeline"
   ]
  },
  {
   "cell_type": "markdown",
   "metadata": {},
   "source": [
    "## Define input parameters"
   ]
  },
  {
   "cell_type": "code",
   "execution_count": 2,
   "metadata": {
    "tags": []
   },
   "outputs": [
    {
     "name": "stdout",
     "output_type": "stream",
     "text": [
      "Scaling factor: 0.01\n",
      "Adopted Fixed-Point Format: ap_ufixed<16,8>\n",
      "Integer Representation: 2\n"
     ]
    }
   ],
   "source": [
    "scaling = 0.01\n",
    "fixed_format = [16, 8]\n",
    "\n",
    "fixed_scaling = fixed_point_to_binary(scaling, fixed_format[0], fixed_format[1])\n",
    "int_version = int(fixed_scaling, 2)\n",
    "\n",
    "print(f'Scaling factor: {scaling}')\n",
    "print(f'Adopted Fixed-Point Format: ap_ufixed<{fixed_format[0]},{fixed_format[1]}>')\n",
    "print(f'Integer Representation: {int_version}')"
   ]
  },
  {
   "cell_type": "markdown",
   "metadata": {},
   "source": [
    "## Pipeline"
   ]
  },
  {
   "cell_type": "markdown",
   "metadata": {},
   "source": [
    "Load overlay"
   ]
  },
  {
   "cell_type": "code",
   "execution_count": null,
   "metadata": {},
   "outputs": [],
   "source": [
    "from pynq import Overlay\n",
    "from pynq.lib.video import *\n",
    "\n",
    "base = Overlay('base.bit')\n",
    "base.download()\n",
    "\n",
    "hdmi_in = base.video.hdmi_in\n",
    "hdmi_out = base.video.hdmi_out"
   ]
  },
  {
   "cell_type": "markdown",
   "metadata": {},
   "source": [
    "Configure HDMI"
   ]
  },
  {
   "cell_type": "code",
   "execution_count": null,
   "metadata": {},
   "outputs": [],
   "source": [
    "hdmi_in.configure(PIXEL_RGBA)\n",
    "hdmi_out.configure(hdmi_in.mode, PIXEL_RGBA)\n",
    "\n",
    "hdmi_in.start()\n",
    "hdmi_out.start()\n",
    "\n",
    "hdmi_in.tie(hdmi_out)"
   ]
  },
  {
   "cell_type": "markdown",
   "metadata": {},
   "source": [
    "Write configuration data (for the `invstripe` function)"
   ]
  },
  {
   "cell_type": "code",
   "execution_count": null,
   "metadata": {},
   "outputs": [],
   "source": [
    "from pynq import MMIO\n",
    "invstripe = MMIO(0x43C8_0000, 0x10000)\n",
    "invstripe.write(0x10, int_version)"
   ]
  },
  {
   "cell_type": "markdown",
   "metadata": {},
   "source": [
    "Don't forget to close the HDMI connection!"
   ]
  },
  {
   "cell_type": "code",
   "execution_count": null,
   "metadata": {},
   "outputs": [],
   "source": [
    "hdmi_out.close()\n",
    "hdmi_in.close()"
   ]
  }
 ],
 "metadata": {
  "kernelspec": {
   "display_name": "Python 3 (ipykernel)",
   "language": "python",
   "name": "python3"
  },
  "language_info": {
   "codemirror_mode": {
    "name": "ipython",
    "version": 3
   },
   "file_extension": ".py",
   "mimetype": "text/x-python",
   "name": "python",
   "nbconvert_exporter": "python",
   "pygments_lexer": "ipython3",
   "version": "3.11.5"
  }
 },
 "nbformat": 4,
 "nbformat_minor": 4
}
